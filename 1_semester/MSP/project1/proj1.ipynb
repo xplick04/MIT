{
 "cells": [
  {
   "cell_type": "markdown",
   "metadata": {},
   "source": [
    "# Projekt MSP1\n",
    "Cílem tohoto projektu je se seznámit s programovými nástroji využívaných ve statistice a osvojit si základní procedury. Projekt není primárně zaměřen na efektivitu využívání programového vybavení (i když úplně nevhodné konstrukce mohou mít vliv na hodnocení), ale nejvíce nás zajímají vaše statistické závěry a způsob vyhodnocení. Dbejte také na to, že každý graf musí splňovat nějaké podmínky - přehlednost, čitelnost, popisky.\n",
    "\n",
    "V projektu budete analyzovat časy běhu šesti různých konfigurací algoritmů. Ke každé konfiguraci vzniklo celkem 200 nezávislých běhů, jejichž logy máte k dispozici v souboru [logfiles.zip](logfiles.zip).\n",
    "\n",
    "Pokud nemáte rozchozené prostředí pro pro spouštění Jupyter notebooku, můžete využití službu [Google Colab](https://colab.google/). Jakákoliv spolupráce, sdílení řešení a podobně je zakázána!\n",
    "\n",
    "S případnými dotazy se obracejte na Vojtěcha Mrázka (mrazek@fit.vutbr.cz).\n",
    "\n",
    "__Odevzdání:__ tento soubor (není potřeba aby obsahoval výstupy skriptů) do neděle 22. 10. 2023 v IS VUT. Kontrola bude probíhat na Pythonu 3.10.12; neočekává se však to, že byste používali nějaké speciality a nekompatibilní knihovny. V případě nesouladu verzí a podobných problémů budete mít možnost reklamace a prokázání správnosti funkce. Bez vyplnění vašich komentářů a závěrů do označených buněk nebude projekt hodnocen!\n",
    "\n",
    "__Upozornění:__ nepřidávejte do notebooku další buňky, odpovídejte tam, kam se ptáme (textové komentáře do Markdown buněk)\n",
    "\n",
    "__Tip:__ před odevzdáním resetujte celý notebook a zkuste jej spustit od začátku. Zamezíte tak chybám krokování a editací, kdy výsledek z buňky na konci použijete na začátku."
   ]
  },
  {
   "cell_type": "markdown",
   "metadata": {},
   "source": [
    "__OTÁZKA K DOPLNĚNÍ:__\n",
    "\n",
    "_Jméno a login autora_"
   ]
  },
  {
   "cell_type": "markdown",
   "metadata": {},
   "source": [
    "## Načtení potřebných knihoven\n",
    "Načtěte knihovny, které jsou nutné pro zpracování souborů a práci se statistickými funkcemi. Není dovoleno načítat jiné knihovny."
   ]
  },
  {
   "cell_type": "code",
   "execution_count": 1,
   "metadata": {},
   "outputs": [],
   "source": [
    "import numpy as np\n",
    "import pandas as pd\n",
    "import matplotlib.pyplot as plt\n",
    "import scipy.stats as stats\n",
    "import seaborn as sns\n",
    "from zipfile import ZipFile"
   ]
  },
  {
   "cell_type": "markdown",
   "metadata": {},
   "source": [
    "## Načtení dat do DataFrame\n",
    "Ze souboru `logfiles.zip` umístěném ve stejném adresáři načtěte data a vytvořte Pandas DataFrame.\n",
    "\n",
    "Z logu vás budou nejvíce zajímat řádky\n",
    "```\n",
    "Configuration: config6\n",
    "Run: 191\n",
    "Time of run: 53.298725254089774\n",
    "```\n",
    "\n",
    "Můžete využít následující kostru - je vhodné pracovat přímo se ZIP souborem. Jedinou nevýhodou je to, že vám bude vracet _byte_ objekt, který musíte přes funkci `decode` zpracovat."
   ]
  },
  {
   "cell_type": "code",
   "execution_count": 2,
   "metadata": {},
   "outputs": [
    {
     "data": {
      "text/html": [
       "<div>\n",
       "<style scoped>\n",
       "    .dataframe tbody tr th:only-of-type {\n",
       "        vertical-align: middle;\n",
       "    }\n",
       "\n",
       "    .dataframe tbody tr th {\n",
       "        vertical-align: top;\n",
       "    }\n",
       "\n",
       "    .dataframe thead th {\n",
       "        text-align: right;\n",
       "    }\n",
       "</style>\n",
       "<table border=\"1\" class=\"dataframe\">\n",
       "  <thead>\n",
       "    <tr style=\"text-align: right;\">\n",
       "      <th></th>\n",
       "      <th>conf</th>\n",
       "      <th>run</th>\n",
       "      <th>time</th>\n",
       "      <th>status</th>\n",
       "    </tr>\n",
       "  </thead>\n",
       "  <tbody>\n",
       "    <tr>\n",
       "      <th>0</th>\n",
       "      <td>config1</td>\n",
       "      <td>0</td>\n",
       "      <td>104.967142</td>\n",
       "      <td>SUCCESS</td>\n",
       "    </tr>\n",
       "    <tr>\n",
       "      <th>1</th>\n",
       "      <td>config1</td>\n",
       "      <td>1</td>\n",
       "      <td>98.617357</td>\n",
       "      <td>SUCCESS</td>\n",
       "    </tr>\n",
       "    <tr>\n",
       "      <th>2</th>\n",
       "      <td>config1</td>\n",
       "      <td>2</td>\n",
       "      <td>106.476885</td>\n",
       "      <td>SUCCESS</td>\n",
       "    </tr>\n",
       "    <tr>\n",
       "      <th>3</th>\n",
       "      <td>config1</td>\n",
       "      <td>3</td>\n",
       "      <td>115.230299</td>\n",
       "      <td>SUCCESS</td>\n",
       "    </tr>\n",
       "    <tr>\n",
       "      <th>4</th>\n",
       "      <td>config1</td>\n",
       "      <td>4</td>\n",
       "      <td>97.658466</td>\n",
       "      <td>SUCCESS</td>\n",
       "    </tr>\n",
       "    <tr>\n",
       "      <th>...</th>\n",
       "      <td>...</td>\n",
       "      <td>...</td>\n",
       "      <td>...</td>\n",
       "      <td>...</td>\n",
       "    </tr>\n",
       "    <tr>\n",
       "      <th>1195</th>\n",
       "      <td>config6</td>\n",
       "      <td>195</td>\n",
       "      <td>168.809495</td>\n",
       "      <td>SUCCESS</td>\n",
       "    </tr>\n",
       "    <tr>\n",
       "      <th>1196</th>\n",
       "      <td>config6</td>\n",
       "      <td>196</td>\n",
       "      <td>159.607244</td>\n",
       "      <td>SUCCESS</td>\n",
       "    </tr>\n",
       "    <tr>\n",
       "      <th>1197</th>\n",
       "      <td>config6</td>\n",
       "      <td>197</td>\n",
       "      <td>171.049799</td>\n",
       "      <td>SUCCESS</td>\n",
       "    </tr>\n",
       "    <tr>\n",
       "      <th>1198</th>\n",
       "      <td>config6</td>\n",
       "      <td>198</td>\n",
       "      <td>164.478283</td>\n",
       "      <td>SUCCESS</td>\n",
       "    </tr>\n",
       "    <tr>\n",
       "      <th>1199</th>\n",
       "      <td>config6</td>\n",
       "      <td>199</td>\n",
       "      <td>187.282809</td>\n",
       "      <td>SUCCESS</td>\n",
       "    </tr>\n",
       "  </tbody>\n",
       "</table>\n",
       "<p>1200 rows × 4 columns</p>\n",
       "</div>"
      ],
      "text/plain": [
       "         conf  run        time   status\n",
       "0     config1    0  104.967142  SUCCESS\n",
       "1     config1    1   98.617357  SUCCESS\n",
       "2     config1    2  106.476885  SUCCESS\n",
       "3     config1    3  115.230299  SUCCESS\n",
       "4     config1    4   97.658466  SUCCESS\n",
       "...       ...  ...         ...      ...\n",
       "1195  config6  195  168.809495  SUCCESS\n",
       "1196  config6  196  159.607244  SUCCESS\n",
       "1197  config6  197  171.049799  SUCCESS\n",
       "1198  config6  198  164.478283  SUCCESS\n",
       "1199  config6  199  187.282809  SUCCESS\n",
       "\n",
       "[1200 rows x 4 columns]"
      ]
     },
     "execution_count": 2,
     "metadata": {},
     "output_type": "execute_result"
    }
   ],
   "source": [
    "# TODO nacteni dat ze zip souboru\n",
    "\n",
    "def load_logfile(f) -> dict:\n",
    "    \"\"\"Load a logfile from a file-like object and return a dict with the data.\"\"\"\n",
    "    data = {\n",
    "        \"conf\": None,\n",
    "        \"run\": None,\n",
    "        \"time\": np.nan\n",
    "    }\n",
    "\n",
    "    for cnt, line in enumerate(f):\n",
    "        line = line.decode(\"utf-8\")\n",
    "        if(cnt == 0):\n",
    "            data[\"conf\"] = line.split(\" \")[1][:-1]\n",
    "        elif(cnt == 1):\n",
    "            data[\"run\"] = int(line.split(\" \")[1][:-1])\n",
    "        elif(cnt == 2):\n",
    "            data[\"time\"] = float(line.split(\" \")[3][:-1])\n",
    "        elif(cnt == 3):\n",
    "            data[\"status\"] = line.split(\" \")[1][:-1]\n",
    "        else:\n",
    "            cnt = 0\n",
    "        # TODO vase naplneni slovniku data\n",
    "    return data\n",
    "\n",
    "data = []\n",
    "with ZipFile(\"logfiles.zip\") as zf:\n",
    "    for filename in zf.namelist():\n",
    "        with zf.open(filename, \"r\") as f:\n",
    "            data.append(load_logfile(f))\n",
    "df = pd.DataFrame(data)\n",
    "df"
   ]
  },
  {
   "cell_type": "markdown",
   "metadata": {},
   "source": [
    "## Analýza a čištění dat\n",
    "Vhodným způsobem pro všechny konfigurace analyzujte časy běhů a pokud tam jsou, identifikujte hodnoty, které jsou chybné. "
   ]
  },
  {
   "cell_type": "code",
   "execution_count": 3,
   "metadata": {},
   "outputs": [
    {
     "data": {
      "image/png": "[encoded data removed]",
      "text/plain": [
       "<Figure size 800x400 with 1 Axes>"
      ]
     },
     "metadata": {},
     "output_type": "display_data"
    }
   ],
   "source": [
    "df = pd.DataFrame(data)\n",
    "\n",
    "df.boxplot(column=\"time\",by=\"conf\", grid=False, figsize=(8,4))\n",
    "plt.title('Konfigurace dle času')\n",
    "plt.xlabel('Konfigurace')\n",
    "plt.ylabel('Čas')\n",
    "plt.suptitle('')\n",
    "plt.show()\n"
   ]
  },
  {
   "cell_type": "markdown",
   "metadata": {},
   "source": [
    "__OTÁZKA K DOPLNĚNÍ:__\n",
    "\n",
    "_Objevily se nějaké chybné hodnoty? Proč tam jsou s ohledem na to, že se jedná o běhy algoritmů?_\n"
   ]
  },
  {
   "cell_type": "markdown",
   "metadata": {},
   "source": [
    "Jedná se o jednotlivé běhy algoritmů, které skončily chybou. Tyto hodnoty lze na grafu vidět jako tzv \"outliery\", což jsou kolečka, která se nachází na hodnotách 3500 a 0 na ose času.\n",
    " \n",
    " "
   ]
  },
  {
   "cell_type": "markdown",
   "metadata": {},
   "source": [
    "Vyčistěte dataframe `df` tak, aby tam tyto hodnoty nebyly a ukažte znovu analýzu toho, že čištění dat bylo úspěšné. Odtud dále pracujte s vyčištěným datasetem."
   ]
  },
  {
   "cell_type": "code",
   "execution_count": 4,
   "metadata": {},
   "outputs": [
    {
     "data": {
      "image/png": "[encoded data removed]",
      "text/plain": [
       "<Figure size 800x400 with 1 Axes>"
      ]
     },
     "metadata": {},
     "output_type": "display_data"
    }
   ],
   "source": [
    "# TODO kod pro upravu dataframe tak, že tam tyto hodnoty nebudou:\n",
    "\n",
    "indexError = df[(df[\"status\"] != \"SUCCESS\")].index\n",
    "df.drop(indexError, inplace=True)\n",
    "\n",
    "df.boxplot(column=\"time\",by=\"conf\", grid=False, figsize=(8,4))\n",
    "plt.title('Konfigurace dle času')\n",
    "plt.xlabel('Konfigurace')\n",
    "plt.ylabel('Čas')\n",
    "plt.suptitle('')\n",
    "plt.show()"
   ]
  },
  {
   "cell_type": "markdown",
   "metadata": {},
   "source": [
    "## Deskriptivní popis hodnot\n",
    "Vypište pro jednotlivé konfigurace základní deskriptivní parametry času pro jednotlivé konfigurace.  \n",
    "\n",
    "__TIP__ pokud výsledky uložíte jako Pandas DataFrame, zobrazí se v tabulce."
   ]
  },
  {
   "cell_type": "code",
   "execution_count": 5,
   "metadata": {},
   "outputs": [
    {
     "data": {
      "text/html": [
       "<div>\n",
       "<style scoped>\n",
       "    .dataframe tbody tr th:only-of-type {\n",
       "        vertical-align: middle;\n",
       "    }\n",
       "\n",
       "    .dataframe tbody tr th {\n",
       "        vertical-align: top;\n",
       "    }\n",
       "\n",
       "    .dataframe thead th {\n",
       "        text-align: right;\n",
       "    }\n",
       "</style>\n",
       "<table border=\"1\" class=\"dataframe\">\n",
       "  <thead>\n",
       "    <tr style=\"text-align: right;\">\n",
       "      <th></th>\n",
       "      <th>count</th>\n",
       "      <th>mean</th>\n",
       "      <th>std</th>\n",
       "      <th>min</th>\n",
       "      <th>25%</th>\n",
       "      <th>50%</th>\n",
       "      <th>75%</th>\n",
       "      <th>max</th>\n",
       "    </tr>\n",
       "    <tr>\n",
       "      <th>conf</th>\n",
       "      <th></th>\n",
       "      <th></th>\n",
       "      <th></th>\n",
       "      <th></th>\n",
       "      <th></th>\n",
       "      <th></th>\n",
       "      <th></th>\n",
       "      <th></th>\n",
       "    </tr>\n",
       "  </thead>\n",
       "  <tbody>\n",
       "    <tr>\n",
       "      <th>config1</th>\n",
       "      <td>193.0</td>\n",
       "      <td>99.590413</td>\n",
       "      <td>9.386788</td>\n",
       "      <td>73.802549</td>\n",
       "      <td>92.979469</td>\n",
       "      <td>99.865028</td>\n",
       "      <td>104.824724</td>\n",
       "      <td>127.201692</td>\n",
       "    </tr>\n",
       "    <tr>\n",
       "      <th>config2</th>\n",
       "      <td>197.0</td>\n",
       "      <td>151.732975</td>\n",
       "      <td>19.833198</td>\n",
       "      <td>85.174653</td>\n",
       "      <td>137.995662</td>\n",
       "      <td>151.516091</td>\n",
       "      <td>163.802880</td>\n",
       "      <td>227.054630</td>\n",
       "    </tr>\n",
       "    <tr>\n",
       "      <th>config3</th>\n",
       "      <td>195.0</td>\n",
       "      <td>138.616959</td>\n",
       "      <td>19.867428</td>\n",
       "      <td>90.567110</td>\n",
       "      <td>124.803901</td>\n",
       "      <td>138.678404</td>\n",
       "      <td>151.536291</td>\n",
       "      <td>201.577616</td>\n",
       "    </tr>\n",
       "    <tr>\n",
       "      <th>config4</th>\n",
       "      <td>199.0</td>\n",
       "      <td>110.317016</td>\n",
       "      <td>30.656816</td>\n",
       "      <td>29.093401</td>\n",
       "      <td>88.742158</td>\n",
       "      <td>110.782732</td>\n",
       "      <td>130.665606</td>\n",
       "      <td>188.971462</td>\n",
       "    </tr>\n",
       "    <tr>\n",
       "      <th>config5</th>\n",
       "      <td>197.0</td>\n",
       "      <td>183.659767</td>\n",
       "      <td>28.729836</td>\n",
       "      <td>107.283620</td>\n",
       "      <td>164.070091</td>\n",
       "      <td>183.843132</td>\n",
       "      <td>201.250693</td>\n",
       "      <td>255.807973</td>\n",
       "    </tr>\n",
       "    <tr>\n",
       "      <th>config6</th>\n",
       "      <td>196.0</td>\n",
       "      <td>162.829359</td>\n",
       "      <td>20.648193</td>\n",
       "      <td>102.074892</td>\n",
       "      <td>149.917475</td>\n",
       "      <td>163.990098</td>\n",
       "      <td>177.730865</td>\n",
       "      <td>208.795048</td>\n",
       "    </tr>\n",
       "  </tbody>\n",
       "</table>\n",
       "</div>"
      ],
      "text/plain": [
       "         count        mean        std         min         25%         50%  \\\n",
       "conf                                                                        \n",
       "config1  193.0   99.590413   9.386788   73.802549   92.979469   99.865028   \n",
       "config2  197.0  151.732975  19.833198   85.174653  137.995662  151.516091   \n",
       "config3  195.0  138.616959  19.867428   90.567110  124.803901  138.678404   \n",
       "config4  199.0  110.317016  30.656816   29.093401   88.742158  110.782732   \n",
       "config5  197.0  183.659767  28.729836  107.283620  164.070091  183.843132   \n",
       "config6  196.0  162.829359  20.648193  102.074892  149.917475  163.990098   \n",
       "\n",
       "                75%         max  \n",
       "conf                             \n",
       "config1  104.824724  127.201692  \n",
       "config2  163.802880  227.054630  \n",
       "config3  151.536291  201.577616  \n",
       "config4  130.665606  188.971462  \n",
       "config5  201.250693  255.807973  \n",
       "config6  177.730865  208.795048  "
      ]
     },
     "execution_count": 5,
     "metadata": {},
     "output_type": "execute_result"
    }
   ],
   "source": [
    "# TODO deskriptivni parametry\n",
    "\n",
    "df.groupby(\"conf\")[\"time\"].describe(percentiles=[.25, .5, .75])\n"
   ]
  },
  {
   "cell_type": "markdown",
   "metadata": {},
   "source": [
    "__OTÁZKA K DOPLNĚNÍ:__\n",
    "\n",
    "_Okomentujte, co všechno můžeme z parametrů vyčíst._\n"
   ]
  },
  {
   "cell_type": "markdown",
   "metadata": {},
   "source": [
    "V tabulce se nachází přehledný statistický popis délek běhů rozdělený dle jednotlivých konfigurací algoritmu.\n",
    "\n",
    "U každé z těchto konfigurací se nachází následující hodnoty:\n",
    "<ol>\n",
    "<li>count: počet jednotlivých záznamů běhů pro danou konfiguraci. Na základě této hodnoty lze například určit kolik konfigurací bylo z původních 200 chybných.</li>\n",
    "<li>mean: střední hodnota časů běhů konfigurací algoritmu. Na základě této hodnoty a odchylky lze zhruba porovnat, které konfigurace dopadly nejlépe z hlediska času. </li>\n",
    "<li>std: směrodatná odchylka časů běhů konfigurací algoritmu. Díky této hodnotě je možné určit rozptyl a variabilitu dat.  </li>\n",
    "<li>min: minimální hodnota.</li> \n",
    "<li>hodnoty 25%, 50%, 75%: tyto hodnoty udávají hranici pod kterou leží 25%, 50%, 75% hodnot u jednotlivých konfigurací. Jinak se tyto hodnoty mohou také nazývat jako dolní kvartyl, druhý kvartil(medián) a horní kvartyl.</li>\n",
    "<li>max: maximální hodnota.</li>\n",
    "</ol>\n",
    "\n",
    "Z těchto hodnot lze vyčíst, že nejméně chybných běhů bylo ve 4. konfiguraci. Nejdelší nechybný běh se nacházel v 5. konfiguracia trval 255,807973. Nejkratší běh trval 29,093401 a nacházel se ve 4. konfiguraci. Nejlepší průměrnou hodnotu běhu měla konfigurace 1. Tato konfigurace má také zároveň nemenší rozptyl.\n",
    " "
   ]
  },
  {
   "cell_type": "markdown",
   "metadata": {},
   "source": [
    "## Vizualizace\n",
    "Vizualizujte časy běhů algoritmů v jednom kompaktním grafu tak, aby byl zřejmý i rozptyl hodnot. Zvolte vhodný graf, který pak níže komentujte."
   ]
  },
  {
   "cell_type": "code",
   "execution_count": 6,
   "metadata": {},
   "outputs": [
    {
     "data": {
      "image/png": "[encoded data removed]",
      "text/plain": [
       "<Figure size 800x400 with 1 Axes>"
      ]
     },
     "metadata": {},
     "output_type": "display_data"
    }
   ],
   "source": [
    "# TODO graf\n",
    "\n",
    "df.boxplot(by=\"conf\",column=\"time\", grid=False, figsize=(8,4))\n",
    "plt.title('Konfigurace dle času')\n",
    "plt.xlabel('Konfigurace')\n",
    "plt.ylabel('Čas')\n",
    "plt.suptitle('')\n",
    "plt.show()\n"
   ]
  },
  {
   "cell_type": "markdown",
   "metadata": {},
   "source": [
    "__OTÁZKA K DOPLNĚNÍ:__\n",
    "\n",
    "_Okomentujte  výsledky z tabulky._"
   ]
  },
  {
   "cell_type": "markdown",
   "metadata": {},
   "source": [
    "V grafu je možné nalézt následující:\n",
    "<ol>\n",
    "<li>střední hodnoty jednotlivých běhů znázorněné vodorovnými čárami v obedelnících.</li>\n",
    "<li>rozdíly dolníhích a horníhích kvartylů, které jsou reprezenotvány výškami obdelínků </li>\n",
    "<li>časy jednotlivých běhů nezahrnuté mezi rozpětím znázorněné tečkami.</li>\n",
    "<li>Spodní svislé čáry vedoucí z obdelníků, které se vypočítají následovně: (spodní kvartyl - 1,5 * (spodní kvartyl - horní kvartyl)). Jejich délku je možné nastavit pomocí parametru \"whis=\", kterým je možné místo základních hodnot kvartylů (25%, 75%) nastavit jiné.</li>\n",
    "<li>Horní svislé čáry vedoucí z obdelníků, které se vypočítají následovně: (horní kvartyl + 1,5 * (spodní kvartyl - horní kvartyl)).</li>\n",
    "</ol>\n",
    "\n",
    "Mimo zmíněné body je možné díky této reprezentaci zhruba porovnat, jak si které algoritmy vedly(na základě výšky střední hodnoty a délek svislých čar). Pro přesnější porovnání je ovšem nutné provést test hypotéz. "
   ]
  },
  {
   "cell_type": "markdown",
   "metadata": {},
   "source": [
    "## Určení efektivity konfigurací algoritmů\n",
    "Nás ale zajímá, jaká konfigurace je nejrychlejší. Z výše vykresleného grafu můžeme vyloučit některé konfigurace. Existuje tam však minimálně jedna dvojice, u které nedokážeme jednoznačně určit, která je lepší - pokud nebudeme porovnávat pouze extrémní hodnoty, které mohou být dané náhodou, ale celkově. Proto proveďte vhodný test významnosti - v následující části diskutujte zejména rozložení dat (i s odkazem na předchozí buňky, variabilitu vs polohu a podobně). Je nutné každý logický krok a výběry statistických funkcí komentovat. Můžete i přidat další buňky.\n",
    "\n",
    "Vužijte vhodnou funkci z knihovny `scipy.stats` a funkci poté __implementujte sami__ na základě základních matematických funkcí knihovny `numpy` případně i funkcí pro výpočet studentova rozložení v [scipy.stats](https://docs.scipy.org/doc/scipy/reference/generated/scipy.stats.t.html). Při vlastní implementaci není nutné se primárně soustředit na efektivitu výpočtu (není potřeba využít všechny funkce numpy, můžete použít normální cykly a podobně - v hodnocení však bude zahrnuta přehlednost a neměly by se objevit jasné chyby, jako je zvýšení třídy složitosti a podobně)."
   ]
  },
  {
   "cell_type": "markdown",
   "metadata": {},
   "source": [
    "__OTÁZKA K DOPLNĚNÍ:__\n",
    "\n",
    "_Jaká data budete zkoumat? Jaké mají rozložení a parametry (např. varianci) a jaký test použijete? Jaká je nulová hypotéza? Jak se liší variabilita a poloha vybraných konfigurací?_"
   ]
  },
  {
   "cell_type": "code",
   "execution_count": 7,
   "metadata": {},
   "outputs": [
    {
     "data": {
      "text/plain": [
       "Text(0, 0.5, 'Čas')"
      ]
     },
     "execution_count": 7,
     "metadata": {},
     "output_type": "execute_result"
    },
    {
     "data": {
      "image/png": "[encoded data removed]",
      "text/plain": [
       "<Figure size 1200x400 with 2 Axes>"
      ]
     },
     "metadata": {},
     "output_type": "display_data"
    }
   ],
   "source": [
    "gb = df.groupby(\"conf\") \n",
    "fig, axs = plt.subplots(1, 2, figsize=(12, 4), sharey=True)\n",
    "\n",
    "# Plot the histogram for Group1 in the first subplot\n",
    "axs[0].hist(gb[[\"time\"]].get_group(\"config1\"), bins=np.linspace(0, 270, 70), color='blue')\n",
    "axs[0].set_title('Konfigurace 1')\n",
    "axs[0].set_xlabel('Běhy')\n",
    "axs[0].set_ylabel('Čas')\n",
    "\n",
    "# Plot the histogram for Group2 in the second subplot\n",
    "axs[1].hist(gb[[\"time\"]].get_group(\"config4\"), bins=np.linspace(0, 270, 70), color='orange')\n",
    "axs[1].set_title('Konfigurace 4')\n",
    "axs[1].set_xlabel('Běhy')\n",
    "axs[1].set_ylabel('Čas')\n"
   ]
  },
  {
   "cell_type": "markdown",
   "metadata": {},
   "source": [
    "Na základě střední hodnoty je možné odhadnout, že si nejlépe vedly konfigurace 1 a 4. Tudíž budeme zkoumat právě tyto dvě konfigurace.\n",
    "\n",
    "Data všech konfigurací mají normální rozložení (zobrazení dat v hisogramu má zvonový tvar), střední hodnota časů běhů skupiny config1 je 99.590413 s rozptylem 88.1117889569. u skupiny config4 je střední hodnota 110.317016 a rozptyl 939.840367258.\n",
    "Pro testování hypotéz je potřeba využít něpárový t-test pro data s různým rozptylem - Welchův t-test.\n",
    "\n",
    "\n",
    "Nulová hypotéza říka, že se střední hodnoty obou konfigurací se rovnají. Alternativní říká, ze střední hodnota 1. konfigurace je menší než střední hodnota 4. konfigurace.\n",
    "\n",
    "Variabilita obou těchto konfigurací se vyýznamně liší, konfigurace 4 má časy běhů mnohem více rozptýlené než konfigurace 1. Poloha obou konfigurací je podobná, jelikož střední hodnoty jsou si podobné a hodnoty spodního a vrchního kvartilu taky.\n"
   ]
  },
  {
   "cell_type": "code",
   "execution_count": 8,
   "metadata": {},
   "outputs": [
    {
     "name": "stdout",
     "output_type": "stream",
     "text": [
      "Zamítáme nulovou hypotézu. Platí Alternativní hypotéza\n"
     ]
    }
   ],
   "source": [
    "# TODO: Implementace s vyuzitim knihovni funkce\n",
    "alpha = 0.05\n",
    "\n",
    "x = stats.ttest_ind(gb[[\"time\"]].get_group(\"config1\"), gb[[\"time\"]].get_group(\"config4\"), alternative='less', equal_var=False)\n",
    "pVal = x[1]\n",
    "if(pVal <= alpha): print(\"Zamítáme nulovou hypotézu. Platí Alternativní hypotéza\")\n",
    "else: print(\"Nelze zamítnout nulovou hypotézu. Nelze prokázat platnost alternativní hypotézy\")\n"
   ]
  },
  {
   "cell_type": "markdown",
   "metadata": {},
   "source": [
    "__OTÁZKA K DOPLNĚNÍ:__\n",
    "\n",
    "_Jaký je závěr statistického testu?_\n",
    "\n",
    "Z provedeného testu bylo možné určit, že platnost alternativní hypotézy naznačuje existenci statisticky významného rozdílu ve prospěch menšího průměrného času 1. konfigurace ve srovnání s průměrným časem 4. konfigurace. Tento závěr bylo možné určit na základě vypočítané hodnoty p, která byla menší než určená hodnota významnosti alpha.\n"
   ]
  },
  {
   "cell_type": "code",
   "execution_count": 9,
   "metadata": {},
   "outputs": [
    {
     "name": "stdout",
     "output_type": "stream",
     "text": [
      "Zamítáme nulovou hypotézu. Platí Alternativní hypotéza\n"
     ]
    }
   ],
   "source": [
    "# TODO vlastni implementace zvoleneho testu\n",
    "\n",
    "\n",
    "def my_ttest(group1, group2):\n",
    "    mean1, std1, count1 = group1.agg([\"mean\", \"std\", \"count\"]).values[0:3]\n",
    "    mean2, std2, count2 = group2.agg([\"mean\", \"std\", \"count\"]).values[0:3]\n",
    "    \n",
    "    #https://real-statistics.com/students-t-distribution/two-independent-samples-t-test/two-sample-t-test-uequal-variances/\n",
    "    \n",
    "    t =     (\n",
    "                (mean1 - mean2) / \n",
    "                np.sqrt(\n",
    "                    ((np.square(std1) / count1))\n",
    "                    +\n",
    "                    ((np.square(std2) / count2))\n",
    "                ) \n",
    "            )\n",
    "\n",
    "    df =   (\n",
    "                (np.square((np.square(std1) / count1) + (np.square(std2) / count2)))  / \n",
    "                (   \n",
    "                    np.square((np.square(std1) / count1)) / \n",
    "                    (count1 - 1)\n",
    "                    + \n",
    "                    np.square((np.square(std2) / count2)) / \n",
    "                    (count2 - 1) \n",
    "                ) \n",
    "            )\n",
    "\n",
    "    pVal = stats.t.cdf(t, df) \n",
    "    if(pVal <= alpha): print(\"Zamítáme nulovou hypotézu. Platí Alternativní hypotéza\")\n",
    "    else: print(\"Nelze zamítnout nulovou hypotézu. Nelze prokázat platnost alternativní hypotézy\")\n",
    "\n",
    "\n",
    "my_ttest(gb[[\"time\"]].get_group(\"config1\"), gb[[\"time\"]].get_group(\"config4\"))\n",
    "\n"
   ]
  }
 ],
 "metadata": {
  "kernelspec": {
   "display_name": "Python 3",
   "language": "python",
   "name": "python3"
  },
  "language_info": {
   "codemirror_mode": {
    "name": "ipython",
    "version": 3
   },
   "file_extension": ".py",
   "mimetype": "text/x-python",
   "name": "python",
   "nbconvert_exporter": "python",
   "pygments_lexer": "ipython3",
   "version": "3.11.6"
  },
  "orig_nbformat": 4
 },
 "nbformat": 4,
 "nbformat_minor": 2
}
