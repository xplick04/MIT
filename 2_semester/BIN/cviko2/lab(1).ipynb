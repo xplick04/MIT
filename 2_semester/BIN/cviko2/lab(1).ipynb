{
  "cells": [
    {
      "cell_type": "markdown",
      "metadata": {
        "id": "1gAPojMm9XAJ"
      },
      "source": [
        "# Načtení souborů\n",
        "V tomto skriptu se načtou log soubory uložené v ZIP souboru. Tento soubor si stáhněte a nahrajte do stejného adresáře, jakou jsou tyto jupyter notebooky. Jedná se o evoluční návrh 4bitových sčítaček pro různé parametry lambda, počet sloupců a četnost mutace."
      ]
    },
    {
      "cell_type": "code",
      "execution_count": null,
      "metadata": {
        "id": "0UWrW3Uc9XAL"
      },
      "outputs": [],
      "source": [
        "! [ -e adders.zip ] || wget https://ehw.fit.vutbr.cz/bin/adders.zip\n",
        "! [ -e example.log ] || wget https://ehw.fit.vutbr.cz/bin/example.log\n"
      ]
    },
    {
      "cell_type": "code",
      "execution_count": null,
      "metadata": {
        "id": "F9deyEL59XAM"
      },
      "outputs": [],
      "source": [
        "# Načtení potřebných knihoven\n",
        "import zipfile\n",
        "import pandas as pd\n",
        "import re\n"
      ]
    },
    {
      "cell_type": "markdown",
      "metadata": {
        "id": "YOu_u95c9XAM"
      },
      "source": [
        "V první funkci se pomocí regulárního výrazu naparsují vstupní parametry evoluce. Vytvoří se objekt typu `dictionary`."
      ]
    },
    {
      "cell_type": "code",
      "execution_count": null,
      "metadata": {
        "id": "24x0zK0k9XAM"
      },
      "outputs": [],
      "source": [
        "def parse_filename(filename):\n",
        "    # adders/FA-adder_full_u4bit-L1-C0050-M01-R0000.log\n",
        "    g = re.match(r\".*u(\\d)bit-L(\\d+)-C(\\d+)-M(\\d+)-R(\\d+)\\.log\", filename)\n",
        "    bw, lback, columns, mutations, run = g.groups()\n",
        "    return {\n",
        "        \"bw\": int(bw),\n",
        "        \"lambda_p\": int(lback),\n",
        "        \"cols\": int(columns),\n",
        "        \"muts\": int(mutations),\n",
        "        \"run\": int(run)\n",
        "    }\n",
        "\n",
        "\n",
        "parse_filename(\"adders/FA-adder_full_u4bit-L1-C0050-M01-R0000.log\")\n"
      ]
    },
    {
      "cell_type": "markdown",
      "metadata": {
        "id": "R1Gqrr0R9XAM"
      },
      "source": [
        "Další funkce projde všechny řádky souboru a poslední řádek určující výslednou kvalitu se určí počet generací, doba trvání (v sekundách), zda se podařilo najít funkční řešení a celkový počet uzlů."
      ]
    },
    {
      "cell_type": "code",
      "execution_count": null,
      "metadata": {
        "id": "22kCNDNZ9XAM"
      },
      "outputs": [],
      "source": [
        "def parse_log(file):\n",
        "    last_line = None\n",
        "    # pruchod pres vsechny radky a hledani vystupu fitness\n",
        "    # generation:         1 time: 0.000 idx:0 fitness: 1296/2560 active nodes: 26\n",
        "    for l in file.readlines():\n",
        "        if l.startswith(\"generation:\"):\n",
        "            last_line = l\n",
        "\n",
        "    assert last_line\n",
        "\n",
        "    g = re.match(\n",
        "        r\"generation:\\s*(\\d+) time:\\s*(\\d+\\.\\d+) idx:\\d+ fitness: (\\d+)/(\\d+) active nodes: (\\d+)\", last_line)\n",
        "\n",
        "    gen, time, fit, fitmax, active = g.groups()\n",
        "    gen, fit, fitmax, active = int(gen), int(fit), int(fitmax), int(active)\n",
        "\n",
        "    return {\n",
        "        \"gen\": int(gen),\n",
        "        \"duration\": float(time),\n",
        "        \"success\": int(fit) >= int(fitmax),\n",
        "        \"nodes\": int(active)\n",
        "    }\n",
        "\n",
        "\n",
        "print(parse_log(open(\"example.log\", \"r\")))\n"
      ]
    },
    {
      "cell_type": "markdown",
      "metadata": {
        "id": "1a-Pdw4b9XAM"
      },
      "source": [
        "Nyní se projodou všechny soubory a vytvoří se jeden slovník. Konstrukce `{**a, **b}` slouží ke spojení dvou slovníků."
      ]
    },
    {
      "cell_type": "code",
      "execution_count": null,
      "metadata": {
        "id": "SPFFmVLe9XAM"
      },
      "outputs": [],
      "source": [
        "from io import TextIOWrapper\n",
        "alld = []\n",
        "with zipfile.ZipFile(\"adders.zip\") as zf:\n",
        "    for filename in zf.namelist():\n",
        "        if not filename.endswith(\".log\"):\n",
        "            continue\n",
        "        d = {\"filename\": filename}\n",
        "        d = {**d, **parse_filename(filename)}\n",
        "        # IO wrapper -> prevod z bytu na str\n",
        "        d = {**d, **parse_log(TextIOWrapper(zf.open(filename, \"r\")))}\n",
        "\n",
        "        alld.append(d)\n",
        "alld\n"
      ]
    },
    {
      "cell_type": "markdown",
      "metadata": {
        "id": "S_szSt9t9XAN"
      },
      "source": [
        "Nyní se vytvoří z pole slovníků jeden dataframe (tabulka), se kterou budeme dále pracovat."
      ]
    },
    {
      "cell_type": "code",
      "execution_count": null,
      "metadata": {
        "id": "SEFmPF_q9XAN"
      },
      "outputs": [],
      "source": [
        "df = pd.DataFrame(alld)\n",
        "df\n"
      ]
    },
    {
      "cell_type": "markdown",
      "metadata": {
        "id": "j4tfD-n79XAN"
      },
      "source": [
        "S tabulkou můžeme dále pracovat - např. si určit úspěšnost návrhu."
      ]
    },
    {
      "cell_type": "code",
      "execution_count": null,
      "metadata": {
        "id": "trKxpdcz9XAN"
      },
      "outputs": [],
      "source": [
        "df[\"success\"].mean()\n"
      ]
    },
    {
      "cell_type": "markdown",
      "metadata": {
        "id": "n9kA6q9d9XAN"
      },
      "source": [
        "A data si uložíme do Pickle souboru pro další zpracování."
      ]
    },
    {
      "cell_type": "code",
      "execution_count": null,
      "metadata": {
        "id": "itv20_fc9XAN"
      },
      "outputs": [],
      "source": [
        "df.to_pickle(\"data.pkl.gz\")\n"
      ]
    },
    {
      "cell_type": "markdown",
      "metadata": {
        "id": "gWLOXiII9XAN"
      },
      "source": [
        "# Zpracování dat\n",
        "Tento notebook představuje hlavní část, se kterou budete ve svém řešení projektu pracovat. Načtou se data, která jste vygenerovali v části 1 a budete je dále analyzovat. Normálně by toto byl samostatný soubor, nicméně pro práci s Google Colab je lepší pracovat s jedním notebookem"
      ]
    },
    {
      "cell_type": "code",
      "execution_count": null,
      "metadata": {
        "id": "bK10zagH9XAN"
      },
      "outputs": [],
      "source": [
        "import pandas as pd\n",
        "import matplotlib.pyplot as plt\n",
        "import scipy.stats as st\n",
        "import numpy as np\n"
      ]
    },
    {
      "cell_type": "markdown",
      "metadata": {
        "id": "0cBMr_fc9XAO"
      },
      "source": [
        "Pomocí funkce `pd.read_pickle` načtěte soubor _data.pkl.gz_. Tento soubor uložte do proměnné `df` a zobrazte ji jako tabulku (tj. poslední řádek buňky bude `df`)."
      ]
    },
    {
      "cell_type": "code",
      "execution_count": null,
      "metadata": {
        "id": "Wiq_fTbs9XAO"
      },
      "outputs": [],
      "source": [
        "# TODO\n"
      ]
    },
    {
      "cell_type": "markdown",
      "metadata": {
        "id": "WAU_NVvG9XAO"
      },
      "source": [
        "Pomocí funkce `unique()` vázané k sérii (sloupci) vypište unikátní hodnoty slouců _cols, muts, lambda_p_."
      ]
    },
    {
      "cell_type": "code",
      "execution_count": null,
      "metadata": {
        "id": "zDi-5k9d9XAO"
      },
      "outputs": [],
      "source": [
        "# TODO\n"
      ]
    },
    {
      "cell_type": "markdown",
      "metadata": {
        "id": "8z0brPy79XAO"
      },
      "source": [
        "## Jednoduchá analýza výsledků\n",
        "Pomocí filtrace `df.query` vytvořte nový dataframe `df2`, který bude obsahovat pouze výsledky s 5 mutacemi a parametrem _lambda_p_ roven 1 a s úspěšnými hledáními (_success_ je pozitivní). Tento dataframe rovnou zobrazte."
      ]
    },
    {
      "cell_type": "code",
      "execution_count": null,
      "metadata": {
        "id": "LLtAPNra9XAO"
      },
      "outputs": [],
      "source": [
        "# TODO\n"
      ]
    },
    {
      "cell_type": "markdown",
      "metadata": {
        "id": "vwCWIc8d9XAO"
      },
      "source": [
        "## Tvorba boxplotu\n",
        "Vytvořte jednoduchý boxplot pro dobu trvání (sloupec _duration_) pro jednotlivé nastavení počtu sloupců (_cols_). Pro data pro každý ze tří boxplotů můžete použtí filtraci z `df2` příkazem `query`, ze kterého pak vyberete pouze duration - t.j. `df2.query(\"...\")[\"duration]`. Nezapomeňte nastavit popisky os a ticky na ose X."
      ]
    },
    {
      "cell_type": "code",
      "execution_count": null,
      "metadata": {
        "id": "CNV5YDVQ9XAO"
      },
      "outputs": [],
      "source": [
        "# TODO\n"
      ]
    },
    {
      "cell_type": "markdown",
      "metadata": {
        "id": "OD2PWyOL9XAO"
      },
      "source": [
        "Do tohoto pole napište závěr z boxplotu. Co můžeme vidět? (cca 2 věty)"
      ]
    },
    {
      "cell_type": "markdown",
      "metadata": {
        "id": "zKGDq1Ge9XAP"
      },
      "source": [
        "## Tvorba histogramu\n",
        "Nyní si zanalyzujeme výsledky trvání pro __50 sloupců__ detailně. Vykreslete proto histogram pro toto nastavení. Použijte filtraci jako výše.\n",
        "\n",
        "Graf nezapomeňte správně nakonfigurovat (titulek, popisy os, limit a podobně)"
      ]
    },
    {
      "cell_type": "code",
      "execution_count": null,
      "metadata": {
        "id": "SnGn2lO89XAP"
      },
      "outputs": [],
      "source": [
        "# TODO\n"
      ]
    },
    {
      "cell_type": "markdown",
      "metadata": {
        "id": "_OMW7gXm9XAP"
      },
      "source": [
        "## Statistická analýza\n",
        "Jaká je průměrná doba trvání pro 100 a 500 sloupců? Vytvořte si dvě série výběrem jako výše a vypište jejich: průměr, medián, minimum, maximum a 1. a 3. kvartil."
      ]
    },
    {
      "cell_type": "code",
      "execution_count": null,
      "metadata": {
        "id": "uC73l0On9XAP"
      },
      "outputs": [],
      "source": [
        "# TODO\n"
      ]
    },
    {
      "cell_type": "markdown",
      "metadata": {
        "id": "uAdGM8Sb9XAP"
      },
      "source": [
        "Podle mediánů se ukázalo, že jedno řešení je lepší. Je to opravdu statisticky významné? Proveďte [Mann-Whitney U-test](https://docs.scipy.org/doc/scipy/reference/generated/scipy.stats.mannwhitneyu.html) (`mannwhitneyu`), protože data nejsou normální. Určete, zda je tento rozdíl signifikantní (s věrností 0.95).\n",
        "\n",
        "> The Mann-Whitney U test is a nonparametric test of the null hypothesis that the distribution underlying sample x is the same as the distribution underlying sample y. It is often used as a test of difference in location between distributions."
      ]
    },
    {
      "cell_type": "code",
      "execution_count": null,
      "metadata": {
        "id": "jtHd9e9D9XAP"
      },
      "outputs": [],
      "source": [
        "# TODO\n"
      ]
    },
    {
      "cell_type": "markdown",
      "metadata": {
        "id": "rPlAynE29XAP"
      },
      "source": [
        "Napište závěr analýzy"
      ]
    },
    {
      "cell_type": "markdown",
      "metadata": {
        "id": "s90dcADt9XAP"
      },
      "source": [
        "## Pro rychlé a zvídavé\n",
        "Tento notebook představuje rychlokurz datové analýzy a nepředstavuje vždy nejlepší řešení. Zkuste si pak implementovat boxploty pomocí Seabornu (`sns.boxplot`), kdy vyplníte parametry `data` (dataframe), `x` (název sloupce na x-ové ose) a `y` (název sloupce na ose y). Navíc můžete použít i větší dataset a nastavit parametr `hue` pro podbarvení (např. počet mutací). Návratová hodnota je matplotib _axis_ (`ax`), který můžete použít k další konfiguraci"
      ]
    },
    {
      "cell_type": "code",
      "execution_count": null,
      "metadata": {
        "id": "B1X-431q9XAQ"
      },
      "outputs": [],
      "source": [
        "import seaborn as sns\n",
        "# ax = sns.boxplot(data=df.query(\"success and lback==1\"), ...) # todo (jen ve volném čase)\n"
      ]
    },
    {
      "cell_type": "markdown",
      "metadata": {
        "id": "jdDg9O5z9XAQ"
      },
      "source": [
        "# Konvergenční křivky\n",
        "Pro vybranou konfiguraci (s 90 běhy) nás bude zajímat, jak vlastně vypadá vývoj fitness v čase. Zase by se jednalo o samostatný soubor, ale kvůli Google Colab stále pracujeme v jednom notebooku."
      ]
    },
    {
      "cell_type": "code",
      "execution_count": null,
      "metadata": {
        "id": "-W53iT3A9XAQ"
      },
      "outputs": [],
      "source": [
        "import pandas as pd\n",
        "import seaborn as sns\n",
        "import matplotlib.pyplot as plt\n",
        "import numpy as np\n",
        "import zipfile\n",
        "import re\n"
      ]
    },
    {
      "cell_type": "markdown",
      "metadata": {
        "id": "qPDXJ6I29XAQ"
      },
      "source": [
        "## Získávání dat\n",
        "Nyní chceme převést každý log do 2D numpy pole, kdy první první sloupec obsahuje generaci a druhý sloupec odpovídající fitness. Vaším úkolem bude doplnit regulární výraz pro načítání generace a fitness a po dvojicích jej vložit do pole `alld`. Pro testovací log soubor by měl vzniknout následující výstup:\n",
        "\n",
        "```[[      1    1296]\n",
        " [     12    1352]\n",
        " [     26    1392]\n",
        "...\n",
        " [1589571    2536]\n",
        " [1647531    2560]]```\n",
        ""
      ]
    },
    {
      "cell_type": "code",
      "execution_count": null,
      "metadata": {
        "id": "VLmG0ELH9XAQ"
      },
      "outputs": [],
      "source": [
        "# TODO\n",
        "def parse_gens(file): ###\n",
        "    # pruchod pres vsechny radky a hledani vystupu fitness ###\n",
        "    # generation:         1 time: 0.000 idx:0 fitness: 1296/2560 active nodes: 26 ###\n",
        "    alld = [] ###\n",
        "    for l in file.readlines(): ###\n",
        "        pass ###\n",
        "        # napiste vhodny regularni vyrat podle sablony nahore ziskavajici  dvojici generace a fitness ###\n",
        "        # z tohoto udelame 2d numpy pole (staci pridat do pole alld) ###\n",
        "        # alld.append([ int(gen), int(fit)]) ###\n",
        "###\n",
        "    return np.array(alld)  ###\n",
        "print(parse_gens(open(\"example.log\", \"r\"))) ###\n"
      ]
    },
    {
      "cell_type": "markdown",
      "metadata": {
        "id": "eglTa9nn9XAQ"
      },
      "source": [
        "Nyní vytvoříme list numpy 2D polí (pro každý log soubor) odpovídající nastavení _bw=4, lambda=1, cols=50 a muts=5_ (vybráno náhodně). Nemohli jsme udělat jedno 3D pole, jelikož každé hledání vyžaduje jiný počet kroků - třetí dimenze pak není konstantní."
      ]
    },
    {
      "cell_type": "code",
      "execution_count": null,
      "metadata": {
        "id": "QClrHCWk9XAQ"
      },
      "outputs": [],
      "source": [
        "from io import TextIOWrapper\n",
        "allgens = []\n",
        "\n",
        "alld = []\n",
        "with zipfile.ZipFile(\"adders.zip\") as zf:\n",
        "    for filename in zf.namelist():\n",
        "        if not filename.endswith(\".log\") or \"FA-adder_full_u4bit-L1-C0050-M05-R\" not in filename:\n",
        "            continue\n",
        "        # IO wrapper -> prevod z bytu na str\n",
        "        gens = parse_gens(TextIOWrapper(zf.open(filename, \"r\")))\n",
        "\n",
        "        allgens.append(gens)\n",
        "allgens\n"
      ]
    },
    {
      "cell_type": "markdown",
      "metadata": {
        "id": "5TsFDNRH9XAR"
      },
      "source": [
        "## Všechny křivky přes sebe\n",
        "Vykreslete graf všech běhů. Pro každý běh `for g in allgens` vykreslete jednu čáru - ideálně použijte funkci `ax.step(x = ..., y = ...  ,where=\"post\", alpha = 0.2)`. Alfa kanál umožní zobrazení více čar přes sebe. Výběr všech generací z dvoudimenzionálního pole `g` (první sloupec v první dimenzi) je možné provést jako `g[:, 0]`. Všechny hodnoty fitness budou `g[:, 1]`.\n",
        "\n",
        "Grafu nastavte logaritmické měřítko na ose X."
      ]
    },
    {
      "cell_type": "code",
      "execution_count": null,
      "metadata": {
        "id": "gGM4ksZB9XAR"
      },
      "outputs": [],
      "source": [
        "# TODO\n",
        "fig, ax = plt.subplots() ###\n",
        "##\n",
        "for g in allgens: ###\n",
        "    pass ###\n",
        "    # vykreslete pomoci ax.step ###\n",
        "# nastavte parametry (log. meritko, ylim od 0 do None, popisky os, ...)\n"
      ]
    },
    {
      "cell_type": "markdown",
      "metadata": {
        "id": "mbsXOFL69XAR"
      },
      "source": [
        "Tato konvergenční křivka sice trochu pomůže, ale není to správná vizualizace tohoto děje.\n",
        "\n",
        "## Vykreslení konvergenční křivky\n",
        "Mohli bychom si spočítat minimum, maximum a průměr a vykreslit pomocí `plt.fill_between`, ale pro nás je výhodnější využít knihovnu _seaborn_. Tato knihovna umožňuje jednoduše generovat grafy z Pandas dataframu. Výhodou je to, že je pak můžeme upravit s využitím našich znalostí z matplotlib. Pro více ukázek doporučuji zkontrolovat [galerii](https://seaborn.pydata.org/examples/index.html).\n",
        "\n",
        "V první části převedeme všechna data na jeden dataframe, kde přidáme sloupec \"runid\"."
      ]
    },
    {
      "cell_type": "code",
      "execution_count": null,
      "metadata": {
        "id": "5FkQAuUU9XAR"
      },
      "outputs": [],
      "source": [
        "alldf = []\n",
        "\n",
        "for rid, g in enumerate(allgens):\n",
        "    d = pd.DataFrame(g, columns=[\"gen\", \"fit\"])\n",
        "    d[\"runid\"] = rid\n",
        "    alldf.append(d)\n",
        "df = pd.concat(alldf, ignore_index=True)\n",
        "df\n"
      ]
    },
    {
      "cell_type": "markdown",
      "metadata": {
        "id": "olvqe24J9XAR"
      },
      "source": [
        "Vykreslete nyní čárový graf pomocí funkce `sns.lineplot`. Argumenty budou `data=df, x=\"gen\", y=\"fit\"`.\n",
        "\n",
        "Návratová hodnota této funkce je objekt _Axis_ `ax`. Nastavte mu stejné parametry, jako výše (logaritmické měřítko a podobně)."
      ]
    },
    {
      "cell_type": "code",
      "execution_count": null,
      "metadata": {
        "id": "vuV_vCmN9XAR"
      },
      "outputs": [],
      "source": [
        "# TODO\n"
      ]
    },
    {
      "cell_type": "markdown",
      "metadata": {
        "id": "ZjaE10DG9XAR"
      },
      "source": [
        "Tento graf ale není správně. Správně se měl spočítat tzv. confidence interval a mělo být vidět, jak se fitness mění v čase. Problémem je to, že nemáme pro každou generaci definovaný výsledek pro všechny běhy. Nezbývá určit vzorkovací body, pro které si spočítáme (interpolujeme) hodnotu fitness.\n",
        "\n",
        "Vytvořte tedy numpy pole `gens_selected` obsahující logaritmicky vzorkované body. Pro generování tohoto rozsahu můžete využít funkci `np.geomspace(start, stop, steps)` s tím, že zvolíte na základě předchozího grafu počátek, konec a vhodný počet bodů."
      ]
    },
    {
      "cell_type": "code",
      "execution_count": null,
      "metadata": {
        "id": "Jxx1htu09XAS"
      },
      "outputs": [],
      "source": [
        "# TODO\n",
        "gens_selected ###"
      ]
    },
    {
      "cell_type": "markdown",
      "metadata": {
        "id": "y5XH6Pem9XAS"
      },
      "source": [
        "Nyní budeme interpolovat a extrapolovat. Využijeme k tomu funkci `scipy.interpolate.interp1d`. Tato funkce vytváří objekt na základě dvojic _x_ a _y_. Potom tento objekt můžeme zavolat (jako funkci) s libovolným vstupem (i vektorem) a vrátí nám body, které by fitness měla pro danou generaci. Normálně se dělá lineární proložení, nicméně zde budeme prokládat předchozí hodnotou (fitness se mění skokově).\n",
        "\n",
        "Vyzkoušejte si funkci `interp1d` a vytvořte si objekt `f` pro jeden běh. Zavolejte tento objekt s vektorem `x2`. Vykreslete si"
      ]
    },
    {
      "cell_type": "code",
      "execution_count": null,
      "metadata": {
        "id": "0E4h0ZYM9XAS"
      },
      "outputs": [],
      "source": [
        "x = [0, 1] ###\n",
        "y = [2, 4] ###\n",
        "x2 = [0.2, 0.3, 0.4, 0.5, 0.6, 0.7, 0.8, 0.9] # tyto body nas zajimaji ###\n",
        "plt.plot(x, y, \"o-\") ###\n",
        "from scipy.interpolate import interp1d ###\n",
        "# todo vytvorte y2 jako linearni interpolaci y v bodech x2 ###\n",
        "# todo vykreslete si body x2, y2 ###\n",
        "y2 ###"
      ]
    },
    {
      "cell_type": "markdown",
      "metadata": {
        "id": "aJgBi8UD9XAS"
      },
      "source": [
        "Stejně tak to uděláme i pro všechny běhy. Všiměte si, že používáme interpolaci _previous_, která nám vrátí poslední známou hodnotu. A můžeme jít i \"za konec\" - extrapolovat."
      ]
    },
    {
      "cell_type": "code",
      "execution_count": null,
      "metadata": {
        "id": "AyoV7d019XAS"
      },
      "outputs": [],
      "source": [
        "from scipy.interpolate import interp1d\n",
        "alldf = []\n",
        "\n",
        "for rid, g in enumerate(allgens):\n",
        "    # vytvorime interpolacni funkci. Pridame i bod 0, protoze ten v seznamu neni\n",
        "    g = np.concatenate([[[0, g[0, 1]]], g])\n",
        "    fn = interp1d(x=g[:, 0], y=g[:, 1], kind=\"previous\",\n",
        "                  fill_value=\"extrapolate\")\n",
        "\n",
        "    d = pd.DataFrame()\n",
        "    # generace nastavime nasim vzorkovacim\n",
        "    d[\"gen\"] = gens_selected\n",
        "    # a fitness odpovida prolozene hodnote\n",
        "    d[\"fit\"] = fn(gens_selected)\n",
        "    d[\"runid\"] = rid\n",
        "    alldf.append(d)\n",
        "df_interp = pd.concat(alldf, ignore_index=True)\n",
        "df_interp\n"
      ]
    },
    {
      "cell_type": "markdown",
      "metadata": {
        "id": "KCVubNJP9XAS"
      },
      "source": [
        "Nyní vykreslete graf stejně jako výše pomocí finkce `sns.lineplot`. Použijte funkci úplně stejně jako výše, jen místo `df` použijte naše nová vzrokovaná data `df_interp`.\n",
        "\n",
        "Vykreslil se už graf správně? Všimněte si, kde docházelo k variacím a kde už je velká jistota, že fitness bude vysoká. Je zadaný algoritmus stabilní z pohledu konvergence?"
      ]
    },
    {
      "cell_type": "code",
      "execution_count": null,
      "metadata": {
        "id": "XQjWwNAb9XAT"
      },
      "outputs": [],
      "source": [
        "# TODO\n"
      ]
    },
    {
      "cell_type": "markdown",
      "metadata": {
        "id": "2oP6YOI-9XAT"
      },
      "source": [
        "Barevný pruh nám určuje confidence interval (0.95) počítaný z distribuce. Střed je průměrná hodnota. My si však můžeme zobrazit např medián a minimum a maximum. Více v [dokumentaci](https://seaborn.pydata.org/tutorial/error_bars.html)\n",
        "\n",
        "Zkuste přidat parametr `estimator=\"median\", errorbar=(\"pi\", 100)` (100. percentil - min / max, můžete použít třeba 75.)."
      ]
    },
    {
      "cell_type": "code",
      "execution_count": null,
      "metadata": {
        "id": "cPdVP3o39XAT"
      },
      "outputs": [],
      "source": [
        "# TODO\n"
      ]
    },
    {
      "cell_type": "code",
      "execution_count": null,
      "metadata": {
        "id": "M08GStsl9XAT"
      },
      "outputs": [],
      "source": []
    }
  ],
  "metadata": {
    "kernelspec": {
      "display_name": "Python 3 (ipykernel)",
      "language": "python",
      "name": "python3"
    },
    "language_info": {
      "codemirror_mode": {
        "name": "ipython",
        "version": 3
      },
      "file_extension": ".py",
      "mimetype": "text/x-python",
      "name": "python",
      "nbconvert_exporter": "python",
      "pygments_lexer": "ipython3",
      "version": "3.10.12"
    },
    "vscode": {
      "interpreter": {
        "hash": "767d51c1340bd893661ea55ea3124f6de3c7a262a8b4abca0554b478b1e2ff90"
      }
    },
    "colab": {
      "provenance": []
    }
  },
  "nbformat": 4,
  "nbformat_minor": 0
}